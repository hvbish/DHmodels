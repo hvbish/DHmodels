{
 "cells": [
  {
   "cell_type": "code",
   "execution_count": 195,
   "metadata": {},
   "outputs": [
    {
     "ename": "AttributeError",
     "evalue": "module 'seaborn' has no attribute 'set_theme'",
     "output_type": "error",
     "traceback": [
      "\u001b[0;31m---------------------------------------------------------------------------\u001b[0m",
      "\u001b[0;31mAttributeError\u001b[0m                            Traceback (most recent call last)",
      "\u001b[0;32m<ipython-input-195-96c2671fa1a6>\u001b[0m in \u001b[0;36m<module>\u001b[0;34m\u001b[0m\n\u001b[1;32m     15\u001b[0m \u001b[0;32mimport\u001b[0m \u001b[0mseaborn\u001b[0m \u001b[0;32mas\u001b[0m \u001b[0msns\u001b[0m\u001b[0;34m\u001b[0m\u001b[0;34m\u001b[0m\u001b[0m\n\u001b[1;32m     16\u001b[0m \u001b[0;32mimport\u001b[0m \u001b[0mmatplotlib\u001b[0m\u001b[0;34m.\u001b[0m\u001b[0mpyplot\u001b[0m \u001b[0;32mas\u001b[0m \u001b[0mplt\u001b[0m\u001b[0;34m\u001b[0m\u001b[0;34m\u001b[0m\u001b[0m\n\u001b[0;32m---> 17\u001b[0;31m \u001b[0msns\u001b[0m\u001b[0;34m.\u001b[0m\u001b[0mset_theme\u001b[0m\u001b[0;34m(\u001b[0m\u001b[0mstyle\u001b[0m\u001b[0;34m=\u001b[0m\u001b[0;34m\"ticks\"\u001b[0m\u001b[0;34m,\u001b[0m \u001b[0mcolor_codes\u001b[0m\u001b[0;34m=\u001b[0m\u001b[0;32mTrue\u001b[0m\u001b[0;34m)\u001b[0m\u001b[0;34m\u001b[0m\u001b[0;34m\u001b[0m\u001b[0m\n\u001b[0m",
      "\u001b[0;31mAttributeError\u001b[0m: module 'seaborn' has no attribute 'set_theme'"
     ]
    }
   ],
   "source": [
    "import numpy as np\n",
    "import astropy\n",
    "from astropy.table import Table, join, vstack, hstack, Column\n",
    "from astropy import stats as apstats\n",
    "from tqdm import tqdm_notebook\n",
    "import hastrofunc as hastro\n",
    "from scipy import stats\n",
    "from scipy.stats import norm\n",
    "import imp\n",
    "import glob\n",
    "from datetime import datetime\n",
    "import os\n",
    "\n",
    "# Plotting\n",
    "import seaborn as sns\n",
    "import matplotlib.pyplot as plt\n",
    "# sns.set_theme(style=\"ticks\", color_codes=True)"
   ]
  },
  {
   "cell_type": "code",
   "execution_count": 179,
   "metadata": {},
   "outputs": [],
   "source": [
    "runs = Table(names=[\"model\",\"ion\",\"hvc_flag\",\"RMS\",\"R_squared\",\\\n",
    "                    \"vflat\",\"vflat_err_lower\",\"vflat_err_upper\",\\\n",
    "                    \"lag\",\"lag_err_lower\",\"lag_err_upper\",\\\n",
    "                    \"vz\",\"vz_err_lower\",\"vz_err_upper\",\\\n",
    "                    \"h0\",\"h0_err_lower\",\"h0_err_upper\",\\\n",
    "                    \"sigma\",\"sigma_err_lower\",\"sigma_err_upper\",\\\n",
    "                    \"R0\",\"R0_err_lower\",\"R0_err_upper\"\\\n",
    "                   ],\n",
    "            dtype=['<U40', '<U7', 'U','f','f',\n",
    "                  'f','f','f',\n",
    "                  'f','f','f',\n",
    "                  'f','f','f',\n",
    "                  'f','f','f',\n",
    "                  'f','f','f',\n",
    "                  'f','f','f'])\n"
   ]
  },
  {
   "cell_type": "code",
   "execution_count": 180,
   "metadata": {},
   "outputs": [],
   "source": [
    "models = ['FlatSandwich','GaussianSandwich','RadialVerticalExponential','VerticalExponential']\n",
    "ions = ['CIV', 'SiIV', 'CII*', 'SiII', 'SII', 'FeII', 'NiII', 'NV']\n",
    "hvc_flag = ['3']"
   ]
  },
  {
   "cell_type": "code",
   "execution_count": 181,
   "metadata": {},
   "outputs": [
    {
     "data": {
      "text/html": [
       "<i>Table length=0</i>\n",
       "<table id=\"table140618880374928\" class=\"table-striped table-bordered table-condensed\">\n",
       "<thead><tr><th>model</th><th>ion</th><th>hvc_flag</th><th>RMS</th><th>R_squared</th><th>vflat</th><th>vflat_err_lower</th><th>vflat_err_upper</th><th>lag</th><th>lag_err_lower</th><th>lag_err_upper</th><th>vz</th><th>vz_err_lower</th><th>vz_err_upper</th><th>h0</th><th>h0_err_lower</th><th>h0_err_upper</th><th>sigma</th><th>sigma_err_lower</th><th>sigma_err_upper</th><th>R0</th><th>R0_err_lower</th><th>R0_err_upper</th></tr></thead>\n",
       "<thead><tr><th>str40</th><th>str7</th><th>str1</th><th>float32</th><th>float32</th><th>float32</th><th>float32</th><th>float32</th><th>float32</th><th>float32</th><th>float32</th><th>float32</th><th>float32</th><th>float32</th><th>float32</th><th>float32</th><th>float32</th><th>float32</th><th>float32</th><th>float32</th><th>float32</th><th>float32</th><th>float32</th></tr></thead>\n",
       "</table>"
      ],
      "text/plain": [
       "<Table length=0>\n",
       "model ion  hvc_flag   RMS   ...    R0   R0_err_lower R0_err_upper\n",
       "str40 str7   str1   float32 ... float32   float32      float32   \n",
       "----- ---- -------- ------- ... ------- ------------ ------------"
      ]
     },
     "execution_count": 181,
     "metadata": {},
     "output_type": "execute_result"
    }
   ],
   "source": [
    "runs[runs[\"ion\"] == 'SII']"
   ]
  },
  {
   "cell_type": "code",
   "execution_count": 182,
   "metadata": {},
   "outputs": [
    {
     "name": "stdout",
     "output_type": "stream",
     "text": [
      "/Users/hannahbish/Dropbox/QuaStar/DHmodels\r\n"
     ]
    },
    {
     "data": {
      "text/plain": [
       "'/Users/hannahbish/Dropbox/QuaStar/DHmodels'"
      ]
     },
     "execution_count": 182,
     "metadata": {},
     "output_type": "execute_result"
    }
   ],
   "source": [
    "!pwd\n",
    "os.getcwd()"
   ]
  },
  {
   "cell_type": "code",
   "execution_count": 183,
   "metadata": {},
   "outputs": [],
   "source": [
    "test = Table.read(os.getcwd()+'/runs/hvc_flag_3/FlatSandwich/params_FlatSandwich_NV.txt',format='ascii')"
   ]
  },
  {
   "cell_type": "code",
   "execution_count": 184,
   "metadata": {},
   "outputs": [
    {
     "data": {
      "text/html": [
       "<i>Table length=6</i>\n",
       "<table id=\"table140618874136784\" class=\"table-striped table-bordered table-condensed\">\n",
       "<thead><tr><th>col1</th><th>col2</th><th>col3</th><th>col4</th></tr></thead>\n",
       "<thead><tr><th>str9</th><th>float64</th><th>float64</th><th>float64</th></tr></thead>\n",
       "<tr><td>vflat</td><td>217.047</td><td>-0.216</td><td>0.231</td></tr>\n",
       "<tr><td>lag</td><td>10.016</td><td>-2.049</td><td>2.025</td></tr>\n",
       "<tr><td>vz</td><td>-13.328</td><td>-0.142</td><td>0.143</td></tr>\n",
       "<tr><td>h0</td><td>0.043</td><td>-0.007</td><td>0.007</td></tr>\n",
       "<tr><td>R_squared</td><td>0.196</td><td>-999.0</td><td>-999.0</td></tr>\n",
       "<tr><td>RMS</td><td>29.074</td><td>-999.0</td><td>-999.0</td></tr>\n",
       "</table>"
      ],
      "text/plain": [
       "<Table length=6>\n",
       "   col1     col2    col3    col4 \n",
       "   str9   float64 float64 float64\n",
       "--------- ------- ------- -------\n",
       "    vflat 217.047  -0.216   0.231\n",
       "      lag  10.016  -2.049   2.025\n",
       "       vz -13.328  -0.142   0.143\n",
       "       h0   0.043  -0.007   0.007\n",
       "R_squared   0.196  -999.0  -999.0\n",
       "      RMS  29.074  -999.0  -999.0"
      ]
     },
     "execution_count": 184,
     "metadata": {},
     "output_type": "execute_result"
    }
   ],
   "source": [
    "test"
   ]
  },
  {
   "cell_type": "code",
   "execution_count": 185,
   "metadata": {},
   "outputs": [
    {
     "name": "stdout",
     "output_type": "stream",
     "text": [
      "FlatSandwich\n",
      "CIV\n",
      "SiIV\n",
      "CII*\n",
      "SiII\n",
      "SII\n",
      "FeII\n",
      "NiII\n",
      "NV\n",
      "GaussianSandwich\n",
      "CIV\n",
      "SiIV\n",
      "CII*\n",
      "SiII\n",
      "SII\n",
      "FeII\n",
      "NiII\n",
      "NV\n",
      "RadialVerticalExponential\n",
      "CIV\n",
      "SiIV\n",
      "CII*\n",
      "SiII\n",
      "SII\n",
      "FeII\n",
      "NiII\n",
      "NV\n",
      "VerticalExponential\n",
      "CIV\n",
      "SiIV\n",
      "CII*\n",
      "SiII\n",
      "SII\n",
      "FeII\n",
      "NiII\n",
      "NV\n"
     ]
    }
   ],
   "source": [
    "# Load FlatSandwich results\n",
    "for model in models:\n",
    "    print(model)\n",
    "    for ion in ions:\n",
    "        print(ion)\n",
    "        for hflag in hvc_flag:\n",
    "            runs.add_row(vals=['-999']*len(runs.colnames))\n",
    "            runs[-1]['model'],runs[-1]['ion'],runs[-1]['hvc_flag'] = model, ion, hflag # Add model, ion, and HVC flag of this run to the row of the table you just added\n",
    "            temp = Table.read(os.getcwd()+'/runs/hvc_flag_'+hflag+'/'+model+'/params_'+model+'_'+ion+'.txt',format='ascii') # Read in output file\n",
    "            for row in temp:\n",
    "                param = row[0]\n",
    "                runs[-1][param] = row[1] # parameter value\n",
    "                if (param != 'RMS') & (param != 'R_squared'):\n",
    "                    runs[-1][param+'_err_lower'] = str(row[2])[1:] # parameter lower error\n",
    "                    runs[-1][param+'_err_upper'] = str(row[3])[1:] # parameter upper error\n",
    "                \n",
    "#                 print(row[0])\n",
    "                "
   ]
  },
  {
   "cell_type": "code",
   "execution_count": 186,
   "metadata": {},
   "outputs": [
    {
     "name": "stdout",
     "output_type": "stream",
     "text": [
      "   model     ion  hvc_flag  RMS   ...   R0   R0_err_lower R0_err_upper\n",
      "------------ ---- -------- ------ ... ------ ------------ ------------\n",
      "FlatSandwich  CIV        3 25.228 ... -999.0       -999.0       -999.0\n",
      "FlatSandwich SiIV        3 25.026 ... -999.0       -999.0       -999.0\n",
      "FlatSandwich CII*        3  16.72 ... -999.0       -999.0       -999.0\n",
      "FlatSandwich SiII        3 16.055 ... -999.0       -999.0       -999.0\n",
      "FlatSandwich  SII        3 13.033 ... -999.0       -999.0       -999.0\n",
      "FlatSandwich FeII        3  47.33 ... -999.0       -999.0       -999.0\n",
      "FlatSandwich NiII        3 17.737 ... -999.0       -999.0       -999.0\n",
      "FlatSandwich   NV        3 29.074 ... -999.0       -999.0       -999.0\n"
     ]
    }
   ],
   "source": [
    "print(runs[runs['model'] == 'FlatSandwich'])"
   ]
  },
  {
   "cell_type": "code",
   "execution_count": 187,
   "metadata": {},
   "outputs": [
    {
     "name": "stdout",
     "output_type": "stream",
     "text": [
      "CIV \t Tie between: ['FlatSandwich', 'GaussianSandwich', 'RadialVerticalExponential']\n",
      "SiIV \t Tie between: ['FlatSandwich', 'GaussianSandwich']\n",
      "CII* \t RadialVerticalExponential\n",
      "SiII \t RadialVerticalExponential\n",
      "SII \t RadialVerticalExponential\n",
      "FeII \t GaussianSandwich\n",
      "NiII \t RadialVerticalExponential\n",
      "NV \t FlatSandwich\n"
     ]
    }
   ],
   "source": [
    "for ion in ions:\n",
    "    best_R2 = max(runs['R_squared'][runs['ion'] == ion])\n",
    "    best_RMS = min(runs['RMS'][runs['ion'] == ion])\n",
    "    best_model = runs['model'][(runs['ion'] == ion) & (runs['RMS'] == best_RMS)]\n",
    "    if len(best_model) > 1:\n",
    "        print(ion,'\\t',\"Tie between:\", [m for m in best_model])\n",
    "    else:\n",
    "        print(ion,'\\t',runs['model'][(runs['ion'] == ion) & (runs['RMS'] == best_RMS)][0])\n",
    "#     print(ion,\"\\t Max R^2 = \",best_R2,\"\\t Best model = \",best_model)"
   ]
  },
  {
   "cell_type": "code",
   "execution_count": 188,
   "metadata": {},
   "outputs": [
    {
     "data": {
      "text/plain": [
       "(array([0, 1, 2, 3]),)"
      ]
     },
     "execution_count": 188,
     "metadata": {},
     "output_type": "execute_result"
    }
   ],
   "source": [
    "# runs['model'][(runs['ion'] == ion) & (runs['R_squared'] == best_R2)]\n",
    "np.where(runs['R_squared'][runs['ion'] == ion] == max(runs['R_squared'][runs['ion'] == ion]))"
   ]
  },
  {
   "cell_type": "code",
   "execution_count": 189,
   "metadata": {},
   "outputs": [
    {
     "data": {
      "text/plain": [
       "(<Column name='model' dtype='str40' length=4>\n",
       "              FlatSandwich\n",
       "          GaussianSandwich\n",
       " RadialVerticalExponential\n",
       "       VerticalExponential, <Column name='R_squared' dtype='float32' length=4>\n",
       " 0.234\n",
       " 0.234\n",
       " 0.234\n",
       " 0.234)"
      ]
     },
     "execution_count": 189,
     "metadata": {},
     "output_type": "execute_result"
    }
   ],
   "source": [
    "runs['model'][runs['ion'] == 'CIV'], runs['R_squared'][runs['ion'] == 'CIV']"
   ]
  },
  {
   "cell_type": "code",
   "execution_count": 194,
   "metadata": {},
   "outputs": [
    {
     "name": "stdout",
     "output_type": "stream",
     "text": [
      "\t FlatSand \t\t GaussSand \t\t RadVertExp \t VertExp\n",
      "CIV\t 25.228 \t\t 25.228 \t\t 25.228 \t\t 25.229\n",
      "\n",
      "SiIV\t 25.026 \t\t 25.026 \t\t 25.112 \t\t 25.079\n",
      "\n",
      "CII*\t 16.72 \t\t 16.712 \t\t 16.684 \t\t 16.703\n",
      "\n",
      "SiII\t 16.055 \t\t 16.019 \t\t 15.796 \t\t 15.985\n",
      "\n",
      "SII\t 13.033 \t\t 13.034 \t\t 13.029 \t\t 13.04\n",
      "\n",
      "FeII\t 47.33 \t\t 47.327 \t\t 47.331 \t\t 47.33\n",
      "\n",
      "NiII\t 17.737 \t\t 17.731 \t\t 17.707 \t\t 17.725\n",
      "\n",
      "NV\t 29.074 \t\t 29.075 \t\t 29.076 \t\t 29.076\n",
      "\n"
     ]
    }
   ],
   "source": [
    "table_param = 'RMS'\n",
    "\n",
    "print('\\t','FlatSand','\\t\\t','GaussSand','\\t\\t','RadVertExp','\\t','VertExp')\n",
    "for ion in ions:\n",
    "    print(ion+'\\t', runs[(runs['ion'] == ion)][0][table_param],\n",
    "          '\\t\\t',runs[(runs['ion'] == ion)][1][table_param],\n",
    "          '\\t\\t',runs[(runs['ion'] == ion)][2][table_param],\n",
    "          '\\t\\t',runs[(runs['ion'] == ion)][3][table_param])\n",
    "    print()\n",
    "#     for model in models:\n",
    "#         print([row for row in runs[(runs['ion'] == ion) & (runs['model'] == model)]['R_squared']])"
   ]
  },
  {
   "cell_type": "code",
   "execution_count": null,
   "metadata": {},
   "outputs": [],
   "source": []
  },
  {
   "cell_type": "code",
   "execution_count": 197,
   "metadata": {},
   "outputs": [],
   "source": [
    "# Make array for plotting with seaborn\n",
    "pd_runs = runs.to_pandas()"
   ]
  },
  {
   "cell_type": "code",
   "execution_count": 246,
   "metadata": {},
   "outputs": [
    {
     "data": {
      "image/png": "[encoded data removed]",
      "text/plain": [
       "<Figure size 719.77x432 with 1 Axes>"
      ]
     },
     "metadata": {},
     "output_type": "display_data"
    }
   ],
   "source": [
    "# cp.xlabel(fontsize=20)\n",
    "# sns.set_style(\"white\")\n",
    "# sns.set(font_scale=1)\n",
    "sns.set(style=\"whitegrid\", font_scale=1.2)\n",
    "# fig, ax = plt.subplots()\n",
    "\n",
    "# sns.catplot(x=\"model\", y=\"RMS\", hue=\"ion\",\n",
    "#             palette={\"male\": \"g\", \"female\": \"m\"},\n",
    "#             markers=[\"^\", \"o\"], linestyles=[\"-\", \"--\"],\n",
    "#             kind=\"point\", data=runs)\n",
    "\n",
    "# plt.figure(figsize = (15,8))\n",
    "\n",
    "cp = sns.catplot(x=\"model\", y=\"RMS\", hue=\"ion\",\n",
    "            kind=\"point\", data=pd_runs,\n",
    "            height=6,aspect=1.5)\n",
    "ax.set_xlabel('X_axis',fontsize=20);"
   ]
  },
  {
   "cell_type": "code",
   "execution_count": null,
   "metadata": {},
   "outputs": [],
   "source": []
  },
  {
   "cell_type": "code",
   "execution_count": null,
   "metadata": {},
   "outputs": [],
   "source": []
  }
 ],
 "metadata": {
  "kernelspec": {
   "display_name": "Python 3",
   "language": "python",
   "name": "python3"
  },
  "language_info": {
   "codemirror_mode": {
    "name": "ipython",
    "version": 3
   },
   "file_extension": ".py",
   "mimetype": "text/x-python",
   "name": "python",
   "nbconvert_exporter": "python",
   "pygments_lexer": "ipython3",
   "version": "3.7.4"
  }
 },
 "nbformat": 4,
 "nbformat_minor": 2
}
